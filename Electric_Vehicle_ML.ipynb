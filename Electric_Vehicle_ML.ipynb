{
 "cells": [
  {
   "cell_type": "markdown",
   "id": "99fd985c",
   "metadata": {},
   "source": [
    "Electric Vehicle Population Data Analysis\n",
    "[Washington US]\n",
    "\n",
    "Objective: To Analyze EV growth and distribution in Washington, US.\n",
    "\n",
    "This dataset shows the Battery Electric Vehicles (BEVs) and Plug-in Hybrid Electric Vehicles (PHEVs) that are currently registered through the Washington State Department of Licensing (DOL) as of February 28, 2023.\n",
    "\n",
    "Source : Kaggle\n",
    "\n",
    "Tool : Jupyter Notebook"
   ]
  },
  {
   "cell_type": "code",
   "execution_count": 1,
   "id": "51298960",
   "metadata": {},
   "outputs": [],
   "source": [
    "import pandas as pd \n",
    "import numpy as np\n",
    "import matplotlib.pyplot as plt\n",
    "import seaborn as sns\n",
    "from sklearn.model_selection import train_test_split\n",
    "from sklearn.linear_model import LinearRegression\n",
    "from sklearn.metrics import mean_squared_error,r2_score"
   ]
  },
  {
   "cell_type": "code",
   "execution_count": 2,
   "id": "7bff16cf",
   "metadata": {},
   "outputs": [],
   "source": [
    "#Reading CSV:-\n",
    "\n",
    "df=pd.read_csv(\"C:\\\\Users\\\\hp\\\\Downloads\\\\Electric_Vehicle_Today_Data.csv\")"
   ]
  },
  {
   "cell_type": "code",
   "execution_count": 3,
   "id": "b0e9a22e",
   "metadata": {},
   "outputs": [
    {
     "data": {
      "text/html": [
       "<div>\n",
       "<style scoped>\n",
       "    .dataframe tbody tr th:only-of-type {\n",
       "        vertical-align: middle;\n",
       "    }\n",
       "\n",
       "    .dataframe tbody tr th {\n",
       "        vertical-align: top;\n",
       "    }\n",
       "\n",
       "    .dataframe thead th {\n",
       "        text-align: right;\n",
       "    }\n",
       "</style>\n",
       "<table border=\"1\" class=\"dataframe\">\n",
       "  <thead>\n",
       "    <tr style=\"text-align: right;\">\n",
       "      <th></th>\n",
       "      <th>Country</th>\n",
       "      <th>City</th>\n",
       "      <th>State</th>\n",
       "      <th>Model Year</th>\n",
       "      <th>Make</th>\n",
       "      <th>Model</th>\n",
       "      <th>Electric Vehicle Type</th>\n",
       "      <th>Clean Alternative Fuel Vehicle (CAFV) Eligibility</th>\n",
       "      <th>Electric Range</th>\n",
       "      <th>Base MSRP</th>\n",
       "      <th>Legislative District</th>\n",
       "      <th>DOL Vehicle ID</th>\n",
       "      <th>Electric Utility</th>\n",
       "      <th>Sales</th>\n",
       "    </tr>\n",
       "  </thead>\n",
       "  <tbody>\n",
       "    <tr>\n",
       "      <th>0</th>\n",
       "      <td>Suffolk</td>\n",
       "      <td>Suffolk</td>\n",
       "      <td>VA</td>\n",
       "      <td>2018</td>\n",
       "      <td>TESLA</td>\n",
       "      <td>MODEL 3</td>\n",
       "      <td>Battery Electric Vehicle (BEV)</td>\n",
       "      <td>Clean Alternative Fuel Vehicle Eligible</td>\n",
       "      <td>215</td>\n",
       "      <td>0</td>\n",
       "      <td>NaN</td>\n",
       "      <td>476647986</td>\n",
       "      <td>NaN</td>\n",
       "      <td>165060339</td>\n",
       "    </tr>\n",
       "    <tr>\n",
       "      <th>1</th>\n",
       "      <td>Yakima</td>\n",
       "      <td>Yakima</td>\n",
       "      <td>WA</td>\n",
       "      <td>2020</td>\n",
       "      <td>TESLA</td>\n",
       "      <td>MODEL 3</td>\n",
       "      <td>Battery Electric Vehicle (BEV)</td>\n",
       "      <td>Clean Alternative Fuel Vehicle Eligible</td>\n",
       "      <td>308</td>\n",
       "      <td>0</td>\n",
       "      <td>14.0</td>\n",
       "      <td>103490145</td>\n",
       "      <td>PACIFICORP</td>\n",
       "      <td>109719851</td>\n",
       "    </tr>\n",
       "    <tr>\n",
       "      <th>2</th>\n",
       "      <td>Yakima</td>\n",
       "      <td>Yakima</td>\n",
       "      <td>WA</td>\n",
       "      <td>2021</td>\n",
       "      <td>AUDI</td>\n",
       "      <td>E-TRON</td>\n",
       "      <td>Battery Electric Vehicle (BEV)</td>\n",
       "      <td>Clean Alternative Fuel Vehicle Eligible</td>\n",
       "      <td>222</td>\n",
       "      <td>0</td>\n",
       "      <td>14.0</td>\n",
       "      <td>144941534</td>\n",
       "      <td>PACIFICORP</td>\n",
       "      <td>131349110</td>\n",
       "    </tr>\n",
       "    <tr>\n",
       "      <th>3</th>\n",
       "      <td>Danville</td>\n",
       "      <td>Danville</td>\n",
       "      <td>VA</td>\n",
       "      <td>2019</td>\n",
       "      <td>TESLA</td>\n",
       "      <td>MODEL 3</td>\n",
       "      <td>Battery Electric Vehicle (BEV)</td>\n",
       "      <td>Clean Alternative Fuel Vehicle Eligible</td>\n",
       "      <td>220</td>\n",
       "      <td>0</td>\n",
       "      <td>NaN</td>\n",
       "      <td>168513922</td>\n",
       "      <td>NaN</td>\n",
       "      <td>124006297</td>\n",
       "    </tr>\n",
       "    <tr>\n",
       "      <th>4</th>\n",
       "      <td>Norfolk</td>\n",
       "      <td>Norfolk</td>\n",
       "      <td>VA</td>\n",
       "      <td>2014</td>\n",
       "      <td>FORD</td>\n",
       "      <td>C-MAX</td>\n",
       "      <td>Plug-in Hybrid Electric Vehicle (PHEV)</td>\n",
       "      <td>Not eligible due to low battery range</td>\n",
       "      <td>19</td>\n",
       "      <td>0</td>\n",
       "      <td>NaN</td>\n",
       "      <td>150749378</td>\n",
       "      <td>NaN</td>\n",
       "      <td>122947837</td>\n",
       "    </tr>\n",
       "  </tbody>\n",
       "</table>\n",
       "</div>"
      ],
      "text/plain": [
       "    Country      City State  Model Year   Make    Model  \\\n",
       "0   Suffolk   Suffolk    VA        2018  TESLA  MODEL 3   \n",
       "1    Yakima    Yakima    WA        2020  TESLA  MODEL 3   \n",
       "2    Yakima    Yakima    WA        2021   AUDI   E-TRON   \n",
       "3  Danville  Danville    VA        2019  TESLA  MODEL 3   \n",
       "4   Norfolk   Norfolk    VA        2014   FORD    C-MAX   \n",
       "\n",
       "                    Electric Vehicle Type  \\\n",
       "0          Battery Electric Vehicle (BEV)   \n",
       "1          Battery Electric Vehicle (BEV)   \n",
       "2          Battery Electric Vehicle (BEV)   \n",
       "3          Battery Electric Vehicle (BEV)   \n",
       "4  Plug-in Hybrid Electric Vehicle (PHEV)   \n",
       "\n",
       "  Clean Alternative Fuel Vehicle (CAFV) Eligibility  Electric Range  \\\n",
       "0           Clean Alternative Fuel Vehicle Eligible             215   \n",
       "1           Clean Alternative Fuel Vehicle Eligible             308   \n",
       "2           Clean Alternative Fuel Vehicle Eligible             222   \n",
       "3           Clean Alternative Fuel Vehicle Eligible             220   \n",
       "4             Not eligible due to low battery range              19   \n",
       "\n",
       "   Base MSRP  Legislative District  DOL Vehicle ID Electric Utility      Sales  \n",
       "0          0                   NaN       476647986              NaN  165060339  \n",
       "1          0                  14.0       103490145       PACIFICORP  109719851  \n",
       "2          0                  14.0       144941534       PACIFICORP  131349110  \n",
       "3          0                   NaN       168513922              NaN  124006297  \n",
       "4          0                   NaN       150749378              NaN  122947837  "
      ]
     },
     "execution_count": 3,
     "metadata": {},
     "output_type": "execute_result"
    }
   ],
   "source": [
    "#To get first 5 Records:-\n",
    "\n",
    "df.head()"
   ]
  },
  {
   "cell_type": "markdown",
   "id": "97fa3f2e",
   "metadata": {},
   "source": [
    "# Let's take a look at some information about the data:-"
   ]
  },
  {
   "cell_type": "code",
   "execution_count": 4,
   "id": "e493f6a7",
   "metadata": {},
   "outputs": [
    {
     "data": {
      "text/plain": [
       "(1999, 14)"
      ]
     },
     "execution_count": 4,
     "metadata": {},
     "output_type": "execute_result"
    }
   ],
   "source": [
    "#To get the Rows & Columns:-\n",
    "\n",
    "df.shape"
   ]
  },
  {
   "cell_type": "markdown",
   "id": "11b52a9a",
   "metadata": {},
   "source": [
    "1. Some missing data are observed\n",
    "\n",
    "2. There are 14 columns among the data.\n",
    "\n",
    "3. There are 1999 rows among the data .\n"
   ]
  },
  {
   "cell_type": "code",
   "execution_count": 5,
   "id": "188495ac",
   "metadata": {},
   "outputs": [
    {
     "data": {
      "text/plain": [
       "Index(['Country', 'City', 'State', 'Model Year', 'Make', 'Model',\n",
       "       'Electric Vehicle Type',\n",
       "       'Clean Alternative Fuel Vehicle (CAFV) Eligibility', 'Electric Range',\n",
       "       'Base MSRP', 'Legislative District', 'DOL Vehicle ID',\n",
       "       'Electric Utility', 'Sales'],\n",
       "      dtype='object')"
      ]
     },
     "execution_count": 5,
     "metadata": {},
     "output_type": "execute_result"
    }
   ],
   "source": [
    "# In this column we can check the column names present in the data set\n",
    "\n",
    "df.columns"
   ]
  },
  {
   "cell_type": "markdown",
   "id": "4d180adc",
   "metadata": {},
   "source": [
    "# In info function we can see the Non -Null values, Data Type ,Count"
   ]
  },
  {
   "cell_type": "code",
   "execution_count": 6,
   "id": "08492369",
   "metadata": {},
   "outputs": [
    {
     "name": "stdout",
     "output_type": "stream",
     "text": [
      "<class 'pandas.core.frame.DataFrame'>\n",
      "RangeIndex: 1999 entries, 0 to 1998\n",
      "Data columns (total 14 columns):\n",
      " #   Column                                             Non-Null Count  Dtype  \n",
      "---  ------                                             --------------  -----  \n",
      " 0   Country                                            1999 non-null   object \n",
      " 1   City                                               1999 non-null   object \n",
      " 2   State                                              1999 non-null   object \n",
      " 3   Model Year                                         1999 non-null   int64  \n",
      " 4   Make                                               1999 non-null   object \n",
      " 5   Model                                              1995 non-null   object \n",
      " 6   Electric Vehicle Type                              1999 non-null   object \n",
      " 7   Clean Alternative Fuel Vehicle (CAFV) Eligibility  1999 non-null   object \n",
      " 8   Electric Range                                     1999 non-null   int64  \n",
      " 9   Base MSRP                                          1999 non-null   int64  \n",
      " 10  Legislative District                               1986 non-null   float64\n",
      " 11  DOL Vehicle ID                                     1999 non-null   int64  \n",
      " 12  Electric Utility                                   1981 non-null   object \n",
      " 13  Sales                                              1999 non-null   int64  \n",
      "dtypes: float64(1), int64(5), object(8)\n",
      "memory usage: 218.8+ KB\n"
     ]
    }
   ],
   "source": [
    "df.info()"
   ]
  },
  {
   "cell_type": "code",
   "execution_count": 7,
   "id": "2fee8a24",
   "metadata": {},
   "outputs": [
    {
     "data": {
      "text/plain": [
       "0"
      ]
     },
     "execution_count": 7,
     "metadata": {},
     "output_type": "execute_result"
    }
   ],
   "source": [
    "#To get the Aggregrated Duplicated value present in the dataset:-\n",
    "\n",
    "df.duplicated().sum()"
   ]
  },
  {
   "cell_type": "code",
   "execution_count": 8,
   "id": "7abcff6b",
   "metadata": {},
   "outputs": [],
   "source": [
    "#Dropping Duplicate Values:-\n",
    "\n",
    "df.drop_duplicates(inplace=True)"
   ]
  },
  {
   "cell_type": "markdown",
   "id": "3b1d0238",
   "metadata": {},
   "source": [
    "# Unique() is used to check the unique values prensent in a column"
   ]
  },
  {
   "cell_type": "code",
   "execution_count": 9,
   "id": "7b192ec1",
   "metadata": {},
   "outputs": [
    {
     "data": {
      "text/plain": [
       "array([     0,  45600,  31950,  39995,  33950,  69900,  52900, 110950,\n",
       "        54950,  36900,  59900,  55700,  64950,  32250, 184400,  36800],\n",
       "      dtype=int64)"
      ]
     },
     "execution_count": 9,
     "metadata": {},
     "output_type": "execute_result"
    }
   ],
   "source": [
    "df[\"Base MSRP\"].unique()"
   ]
  },
  {
   "cell_type": "code",
   "execution_count": 10,
   "id": "fcf2f072",
   "metadata": {},
   "outputs": [
    {
     "data": {
      "text/plain": [
       "array(['Suffolk', 'Yakima', 'Danville', 'Norfolk', 'Olympia', 'Tenino',\n",
       "       'Bothell', 'Seattle', 'Cle Elum', 'Snohomish', 'Leavenworth',\n",
       "       'Kirkland', 'Port Orchard', 'Lake Stevens', 'Mount Vernon',\n",
       "       'Decatur', 'Moses Lake', 'Anacortes', 'Pomeroy', 'Walla Walla',\n",
       "       'Bow', 'Ronald', 'Pullman', 'Gig Harbor', 'Yelm', 'Poulsbo',\n",
       "       'Tumwater', 'Langley', 'Selah', 'Goshen', 'Sedro Woolley',\n",
       "       'Cashmere', 'Marysville', 'Woodinville', 'Wenatchee', 'Lacey',\n",
       "       'Bremerton', 'Redmond', 'Lynnwood', 'Santa Cruz', 'Everett',\n",
       "       'Edmonds', 'East Wenatchee', 'Mukilteo', 'Aiea', 'Spokane',\n",
       "       'Clinton', 'Cheney', 'Chelan', 'Silverdale', 'Hunters',\n",
       "       'Rock Island', 'Dayton', 'Union Gap', 'North Las Vegas', 'Palouse',\n",
       "       'Colville', 'Renton', 'Bainbridge Island', 'Suquamish', 'Monroe',\n",
       "       'Bellevue', 'Puyallup', 'South Hill', 'Des Moines', 'Tacoma',\n",
       "       'Bellingham', 'Vancouver', 'Snoqualmie', 'Stanwood', 'Castle Rock',\n",
       "       'Kenmore', 'White Salmon', 'Ridgefield', 'Duvall', 'Mercer Island',\n",
       "       'Federal Way', 'Maple Valley', 'Spanaway', 'Richland', 'Olalla',\n",
       "       'Graham', 'Issaquah', 'Mill Creek', 'Stevenson', 'Bonney Lake',\n",
       "       'Kingston', 'Burien', 'Greenacres', 'Clyde Hill', 'Auburn',\n",
       "       'Coupeville', 'Shoreline', 'Sammamish', 'Spokane Valley',\n",
       "       'Ferndale', 'Vashon', 'Sequim', 'Lake Tapps', 'Normandy Park',\n",
       "       'Eastsound', 'Pasco', 'Hunts Point', 'Everson', 'Camas',\n",
       "       'Enumclaw', 'Grandview', 'Covington', 'Steilacoom', 'Edgewood',\n",
       "       'Seabeck', 'Ocean Park', 'Black Diamond', 'Longview', 'Carnation',\n",
       "       'Lakewood', 'Oak Harbor', 'Royal City', 'Fox Island', 'Malaga',\n",
       "       'Ellensburg', 'Seatac', 'Tukwila', 'Mountlake Terrace', 'Keyport',\n",
       "       'Port Townsend', 'Belfair', 'Silver Creek', 'Kennewick',\n",
       "       'Battle Ground', 'Yarrow Point', 'Buckley', 'Liberty Lake',\n",
       "       'Clarkston', 'Brush Prairie', 'Kent', 'Sedro-Woolley', 'Shelton',\n",
       "       'Port Angeles', 'Newcastle', 'Waldron', 'Freeland', 'Oakville',\n",
       "       'Ocean Shores', 'Rochester', 'Indianola', 'Arlington', 'Manson',\n",
       "       'Milton', 'Washougal', 'Elk', 'Burbank', 'Mead', 'Chehalis',\n",
       "       'Parkland', 'Burlington', 'Chesapeake Beach', 'Orting',\n",
       "       'Centralia', 'Toppenish', 'Fort Irwin', 'Medical Lake', 'Chimacum',\n",
       "       'La Center', 'Usk', 'Camano Island', 'Beaux Arts', 'Tonasket',\n",
       "       'Hoodsport', 'Brier', 'Aberdeen', 'Medina', 'Algona', 'Montesano',\n",
       "       'North Bend', 'Olga', 'Dupont', 'Joint Base Lewis Mcchord', 'Fife',\n",
       "       'Othello', 'University Place', 'Lake Forest Park', 'Morton',\n",
       "       'Winthrop', 'Veradale', 'Deer Harbor', 'Lynden', 'Nine Mile Falls',\n",
       "       'Sumner', 'Elma', 'Woodway', 'Newman Lake', 'Ravensdale',\n",
       "       'Alexandria', 'Rice', 'Woodland', 'Fircrest', 'Roslyn', 'Colbert',\n",
       "       'Grapeview', 'Waitsburg', 'Friday Harbor', 'Menlo',\n",
       "       'West Richland', 'Ariel', 'Okanogan', 'Port Ludlow', 'Lakebay',\n",
       "       'Quincy', 'Hansville'], dtype=object)"
      ]
     },
     "execution_count": 10,
     "metadata": {},
     "output_type": "execute_result"
    }
   ],
   "source": [
    "df[\"City\"].unique()"
   ]
  },
  {
   "cell_type": "code",
   "execution_count": 11,
   "id": "030aaa7e",
   "metadata": {},
   "outputs": [
    {
     "data": {
      "text/plain": [
       "array([165060339, 109719851, 131349110, ...,  94454368, 143091685,\n",
       "        84420224], dtype=int64)"
      ]
     },
     "execution_count": 11,
     "metadata": {},
     "output_type": "execute_result"
    }
   ],
   "source": [
    "df[\"Sales\"].unique()"
   ]
  },
  {
   "cell_type": "markdown",
   "id": "e7a4a841",
   "metadata": {},
   "source": [
    "# Isna() used to check the null values\n",
    "# Sum() shows the total number of null values present in a column"
   ]
  },
  {
   "cell_type": "code",
   "execution_count": 12,
   "id": "5567159c",
   "metadata": {},
   "outputs": [
    {
     "data": {
      "text/plain": [
       "Country                                               0\n",
       "City                                                  0\n",
       "State                                                 0\n",
       "Model Year                                            0\n",
       "Make                                                  0\n",
       "Model                                                 4\n",
       "Electric Vehicle Type                                 0\n",
       "Clean Alternative Fuel Vehicle (CAFV) Eligibility     0\n",
       "Electric Range                                        0\n",
       "Base MSRP                                             0\n",
       "Legislative District                                 13\n",
       "DOL Vehicle ID                                        0\n",
       "Electric Utility                                     18\n",
       "Sales                                                 0\n",
       "dtype: int64"
      ]
     },
     "execution_count": 12,
     "metadata": {},
     "output_type": "execute_result"
    }
   ],
   "source": [
    "#To get Aggregrated null values available in data:-\n",
    "\n",
    "df.isna().sum()"
   ]
  },
  {
   "cell_type": "markdown",
   "id": "457cc106",
   "metadata": {},
   "source": [
    "# Now we Fill all the Null Values"
   ]
  },
  {
   "cell_type": "code",
   "execution_count": 13,
   "id": "8f09c246",
   "metadata": {},
   "outputs": [],
   "source": [
    "df.Country.fillna(method=\"ffill\",inplace=True)"
   ]
  },
  {
   "cell_type": "code",
   "execution_count": 14,
   "id": "12980a61",
   "metadata": {},
   "outputs": [],
   "source": [
    "df.Model.fillna(method=\"ffill\",inplace=True)"
   ]
  },
  {
   "cell_type": "code",
   "execution_count": 15,
   "id": "48b819e2",
   "metadata": {},
   "outputs": [],
   "source": [
    "df.City.fillna(method=\"ffill\",inplace=True)"
   ]
  },
  {
   "cell_type": "code",
   "execution_count": 16,
   "id": "87497b6d",
   "metadata": {},
   "outputs": [],
   "source": [
    "df[\"Legislative District\"].fillna(method=\"ffill\",inplace=True)"
   ]
  },
  {
   "cell_type": "markdown",
   "id": "d4b732ca",
   "metadata": {},
   "source": [
    "# Here we can see the data is clean but still we have two null values so we have to fill again the null values using median ,bfill"
   ]
  },
  {
   "cell_type": "code",
   "execution_count": 17,
   "id": "a9020ad2",
   "metadata": {},
   "outputs": [
    {
     "data": {
      "text/plain": [
       "Country                                               0\n",
       "City                                                  0\n",
       "State                                                 0\n",
       "Model Year                                            0\n",
       "Make                                                  0\n",
       "Model                                                 0\n",
       "Electric Vehicle Type                                 0\n",
       "Clean Alternative Fuel Vehicle (CAFV) Eligibility     0\n",
       "Electric Range                                        0\n",
       "Base MSRP                                             0\n",
       "Legislative District                                  1\n",
       "DOL Vehicle ID                                        0\n",
       "Electric Utility                                     18\n",
       "Sales                                                 0\n",
       "dtype: int64"
      ]
     },
     "execution_count": 17,
     "metadata": {},
     "output_type": "execute_result"
    }
   ],
   "source": [
    "#To get Aggregrated null values available in data:-\n",
    "\n",
    "df.isna().sum()"
   ]
  },
  {
   "cell_type": "code",
   "execution_count": 18,
   "id": "a371cb11",
   "metadata": {},
   "outputs": [
    {
     "data": {
      "text/plain": [
       "array([nan, 14., 22., 20.,  1., 43., 13., 12., 48., 26., 44., 10., 40.,\n",
       "        9., 16., 23., 15., 39., 45., 35., 38., 21., 32., 46.,  2.,  3.,\n",
       "        6.,  7., 11., 34., 37., 41., 36., 25., 33., 27., 49.,  5., 17.,\n",
       "       30., 28.,  8., 31.,  4., 42., 47., 24., 18., 19., 29.])"
      ]
     },
     "execution_count": 18,
     "metadata": {},
     "output_type": "execute_result"
    }
   ],
   "source": [
    "#To check how many unique values available in Legislative District column:-\n",
    "\n",
    "df[\"Legislative District\"].unique()"
   ]
  },
  {
   "cell_type": "code",
   "execution_count": 19,
   "id": "8a454fc1",
   "metadata": {},
   "outputs": [],
   "source": [
    "#Here null value is present so we fill the null value by fillna() using mean/median():-\n",
    "\n",
    "df[\"Legislative District\"].fillna(df[\"Legislative District\"].median(),inplace=True)"
   ]
  },
  {
   "cell_type": "code",
   "execution_count": 20,
   "id": "2c075dab",
   "metadata": {},
   "outputs": [
    {
     "data": {
      "text/plain": [
       "array([32.5, 14. , 22. , 20. ,  1. , 43. , 13. , 12. , 48. , 26. , 44. ,\n",
       "       10. , 40. ,  9. , 16. , 23. , 15. , 39. , 45. , 35. , 38. , 21. ,\n",
       "       32. , 46. ,  2. ,  3. ,  6. ,  7. , 11. , 34. , 37. , 41. , 36. ,\n",
       "       25. , 33. , 27. , 49. ,  5. , 17. , 30. , 28. ,  8. , 31. ,  4. ,\n",
       "       42. , 47. , 24. , 18. , 19. , 29. ])"
      ]
     },
     "execution_count": 20,
     "metadata": {},
     "output_type": "execute_result"
    }
   ],
   "source": [
    "#To check how many unique values available in Legislative District column:-\n",
    "\n",
    "df[\"Legislative District\"].unique()"
   ]
  },
  {
   "cell_type": "code",
   "execution_count": 21,
   "id": "26f96994",
   "metadata": {},
   "outputs": [
    {
     "data": {
      "text/plain": [
       "Country                                               0\n",
       "City                                                  0\n",
       "State                                                 0\n",
       "Model Year                                            0\n",
       "Make                                                  0\n",
       "Model                                                 0\n",
       "Electric Vehicle Type                                 0\n",
       "Clean Alternative Fuel Vehicle (CAFV) Eligibility     0\n",
       "Electric Range                                        0\n",
       "Base MSRP                                             0\n",
       "Legislative District                                  0\n",
       "DOL Vehicle ID                                        0\n",
       "Electric Utility                                     18\n",
       "Sales                                                 0\n",
       "dtype: int64"
      ]
     },
     "execution_count": 21,
     "metadata": {},
     "output_type": "execute_result"
    }
   ],
   "source": [
    "#To get Aggregrated null values available in data:-\n",
    "\n",
    "df.isna().sum()"
   ]
  },
  {
   "cell_type": "code",
   "execution_count": 22,
   "id": "4b3adcea",
   "metadata": {},
   "outputs": [
    {
     "data": {
      "text/plain": [
       "array([nan, 'PACIFICORP', 'PUGET SOUND ENERGY INC',\n",
       "       'CITY OF SEATTLE - (WA)|CITY OF TACOMA - (WA)',\n",
       "       'PUD NO 1 OF CHELAN COUNTY',\n",
       "       'PUGET SOUND ENERGY INC||CITY OF TACOMA - (WA)',\n",
       "       'PUD NO 2 OF GRANT COUNTY', 'AVISTA CORP',\n",
       "       'PUD NO 1 OF DOUGLAS COUNTY', 'MODERN ELECTRIC WATER COMPANY',\n",
       "       'CITY OF CHENEY - (WA)',\n",
       "       'BONNEVILLE POWER ADMINISTRATION||CITY OF TACOMA - (WA)||PENINSULA LIGHT COMPANY',\n",
       "       'PUGET SOUND ENERGY INC||PUD NO 1 OF WHATCOM COUNTY',\n",
       "       'BONNEVILLE POWER ADMINISTRATION||PUD NO 1 OF CLARK COUNTY - (WA)',\n",
       "       'BONNEVILLE POWER ADMINISTRATION||CITY OF TACOMA - (WA)||ELMHURST MUTUAL POWER & LIGHT CO|PENINSULA LIGHT COMPANY',\n",
       "       'BONNEVILLE POWER ADMINISTRATION||PUD 1 OF SNOHOMISH COUNTY',\n",
       "       'BONNEVILLE POWER ADMINISTRATION||PUD NO 1 OF COWLITZ COUNTY',\n",
       "       'BONNEVILLE POWER ADMINISTRATION||PUD NO 1 OF KLICKITAT COUNTY',\n",
       "       'BONNEVILLE POWER ADMINISTRATION||AVISTA CORP||INLAND POWER & LIGHT COMPANY',\n",
       "       'BONNEVILLE POWER ADMINISTRATION||CITY OF RICHLAND - (WA)',\n",
       "       'BONNEVILLE POWER ADMINISTRATION||PUD NO 1 OF SKAMANIA CO',\n",
       "       'BONNEVILLE POWER ADMINISTRATION||PUD NO 1 OF CLALLAM COUNTY',\n",
       "       'BONNEVILLE POWER ADMINISTRATION||ORCAS POWER & LIGHT COOP',\n",
       "       'BONNEVILLE POWER ADMINISTRATION||PUD NO 1 OF FRANKLIN COUNTY',\n",
       "       'BONNEVILLE POWER ADMINISTRATION||PACIFICORP||BENTON RURAL ELECTRIC ASSN',\n",
       "       'BONNEVILLE POWER ADMINISTRATION||TOWN OF STEILACOOM|CITY OF TACOMA - (WA)||PENINSULA LIGHT COMPANY',\n",
       "       'BONNEVILLE POWER ADMINISTRATION||PUD NO 2 OF PACIFIC COUNTY',\n",
       "       'BONNEVILLE POWER ADMINISTRATION||PUGET SOUND ENERGY INC||PUD NO 1 OF JEFFERSON COUNTY',\n",
       "       'BONNEVILLE POWER ADMINISTRATION||CITY OF TACOMA - (WA)||PUD NO 3 OF MASON COUNTY',\n",
       "       'BONNEVILLE POWER ADMINISTRATION||CITY OF TACOMA - (WA)||PUD NO 1 OF LEWIS COUNTY',\n",
       "       'BONNEVILLE POWER ADMINISTRATION||PUD NO 1 OF BENTON COUNTY',\n",
       "       'BONNEVILLE POWER ADMINISTRATION||INLAND POWER & LIGHT COMPANY',\n",
       "       'BONNEVILLE POWER ADMINISTRATION||PUD NO 1 OF ASOTIN COUNTY||INLAND POWER & LIGHT COMPANY',\n",
       "       'BONNEVILLE POWER ADMINISTRATION||CITY OF PORT ANGELES - (WA)',\n",
       "       'BONNEVILLE POWER ADMINISTRATION||PUD NO 1 OF GRAYS HARBOR COUNTY',\n",
       "       'BONNEVILLE POWER ADMINISTRATION||CITY OF MILTON - (WA)|CITY OF TACOMA - (WA)',\n",
       "       'BONNEVILLE POWER ADMINISTRATION||PACIFICORP||PUD NO 1 OF CLARK COUNTY - (WA)',\n",
       "       'BONNEVILLE POWER ADMINISTRATION||VERA IRRIGATION DISTRICT #15',\n",
       "       'BONNEVILLE POWER ADMINISTRATION||COLUMBIA RURAL ELEC ASSN, INC',\n",
       "       'BONNEVILLE POWER ADMINISTRATION||CITY OF TACOMA - (WA)||PARKLAND LIGHT & WATER COMPANY|PENINSULA LIGHT COMPANY',\n",
       "       'BONNEVILLE POWER ADMINISTRATION||CITY OF TACOMA - (WA)||LAKEVIEW LIGHT & POWER|PENINSULA LIGHT COMPANY',\n",
       "       'PUD NO 1 OF PEND OREILLE COUNTY', 'PUD NO 1 OF OKANOGAN COUNTY',\n",
       "       'BONNEVILLE POWER ADMINISTRATION||CITY OF TACOMA - (WA)||PUD NO 1 OF MASON COUNTY',\n",
       "       'CITY OF TACOMA - (WA)||TANNER ELECTRIC COOP',\n",
       "       'BONNEVILLE POWER ADMINISTRATION||AVISTA CORP||BIG BEND ELECTRIC COOP, INC',\n",
       "       'OKANOGAN COUNTY ELEC COOP, INC',\n",
       "       'BONNEVILLE POWER ADMINISTRATION||CITY OF ELLENSBURG - (WA)',\n",
       "       'BONNEVILLE POWER ADMINISTRATION||AVISTA CORP||PUD NO 1 OF ASOTIN COUNTY',\n",
       "       'BONNEVILLE POWER ADMINISTRATION||PACIFICORP||COLUMBIA RURAL ELEC ASSN, INC',\n",
       "       'BONNEVILLE POWER ADMINISTRATION||CITY OF CENTRALIA - (WA)|CITY OF TACOMA - (WA)'],\n",
       "      dtype=object)"
      ]
     },
     "execution_count": 22,
     "metadata": {},
     "output_type": "execute_result"
    }
   ],
   "source": [
    "#To check how many unique values available in Electric Utility column:-\n",
    "\n",
    "df[\"Electric Utility\"].unique()"
   ]
  },
  {
   "cell_type": "code",
   "execution_count": 23,
   "id": "57fd0cea",
   "metadata": {},
   "outputs": [],
   "source": [
    "#To fill null values by using fillna() in Electric Utility column:-\n",
    "\n",
    "df[\"Electric Utility\"].fillna(method=\"bfill\",inplace=True)"
   ]
  },
  {
   "cell_type": "markdown",
   "id": "bdf7836a",
   "metadata": {},
   "source": [
    "# Now the data is clean\n",
    "# No Null values present in a column"
   ]
  },
  {
   "cell_type": "code",
   "execution_count": 24,
   "id": "7e38d810",
   "metadata": {},
   "outputs": [
    {
     "data": {
      "text/plain": [
       "Country                                              0\n",
       "City                                                 0\n",
       "State                                                0\n",
       "Model Year                                           0\n",
       "Make                                                 0\n",
       "Model                                                0\n",
       "Electric Vehicle Type                                0\n",
       "Clean Alternative Fuel Vehicle (CAFV) Eligibility    0\n",
       "Electric Range                                       0\n",
       "Base MSRP                                            0\n",
       "Legislative District                                 0\n",
       "DOL Vehicle ID                                       0\n",
       "Electric Utility                                     0\n",
       "Sales                                                0\n",
       "dtype: int64"
      ]
     },
     "execution_count": 24,
     "metadata": {},
     "output_type": "execute_result"
    }
   ],
   "source": [
    "df.isna().sum()"
   ]
  },
  {
   "cell_type": "code",
   "execution_count": 25,
   "id": "34e978ab",
   "metadata": {},
   "outputs": [
    {
     "data": {
      "text/plain": [
       "array(['PACIFICORP', 'PUGET SOUND ENERGY INC',\n",
       "       'CITY OF SEATTLE - (WA)|CITY OF TACOMA - (WA)',\n",
       "       'PUD NO 1 OF CHELAN COUNTY',\n",
       "       'PUGET SOUND ENERGY INC||CITY OF TACOMA - (WA)',\n",
       "       'PUD NO 2 OF GRANT COUNTY', 'AVISTA CORP',\n",
       "       'PUD NO 1 OF DOUGLAS COUNTY', 'MODERN ELECTRIC WATER COMPANY',\n",
       "       'CITY OF CHENEY - (WA)',\n",
       "       'BONNEVILLE POWER ADMINISTRATION||CITY OF TACOMA - (WA)||PENINSULA LIGHT COMPANY',\n",
       "       'PUGET SOUND ENERGY INC||PUD NO 1 OF WHATCOM COUNTY',\n",
       "       'BONNEVILLE POWER ADMINISTRATION||PUD NO 1 OF CLARK COUNTY - (WA)',\n",
       "       'BONNEVILLE POWER ADMINISTRATION||CITY OF TACOMA - (WA)||ELMHURST MUTUAL POWER & LIGHT CO|PENINSULA LIGHT COMPANY',\n",
       "       'BONNEVILLE POWER ADMINISTRATION||PUD 1 OF SNOHOMISH COUNTY',\n",
       "       'BONNEVILLE POWER ADMINISTRATION||PUD NO 1 OF COWLITZ COUNTY',\n",
       "       'BONNEVILLE POWER ADMINISTRATION||PUD NO 1 OF KLICKITAT COUNTY',\n",
       "       'BONNEVILLE POWER ADMINISTRATION||AVISTA CORP||INLAND POWER & LIGHT COMPANY',\n",
       "       'BONNEVILLE POWER ADMINISTRATION||CITY OF RICHLAND - (WA)',\n",
       "       'BONNEVILLE POWER ADMINISTRATION||PUD NO 1 OF SKAMANIA CO',\n",
       "       'BONNEVILLE POWER ADMINISTRATION||PUD NO 1 OF CLALLAM COUNTY',\n",
       "       'BONNEVILLE POWER ADMINISTRATION||ORCAS POWER & LIGHT COOP',\n",
       "       'BONNEVILLE POWER ADMINISTRATION||PUD NO 1 OF FRANKLIN COUNTY',\n",
       "       'BONNEVILLE POWER ADMINISTRATION||PACIFICORP||BENTON RURAL ELECTRIC ASSN',\n",
       "       'BONNEVILLE POWER ADMINISTRATION||TOWN OF STEILACOOM|CITY OF TACOMA - (WA)||PENINSULA LIGHT COMPANY',\n",
       "       'BONNEVILLE POWER ADMINISTRATION||PUD NO 2 OF PACIFIC COUNTY',\n",
       "       'BONNEVILLE POWER ADMINISTRATION||PUGET SOUND ENERGY INC||PUD NO 1 OF JEFFERSON COUNTY',\n",
       "       'BONNEVILLE POWER ADMINISTRATION||CITY OF TACOMA - (WA)||PUD NO 3 OF MASON COUNTY',\n",
       "       'BONNEVILLE POWER ADMINISTRATION||CITY OF TACOMA - (WA)||PUD NO 1 OF LEWIS COUNTY',\n",
       "       'BONNEVILLE POWER ADMINISTRATION||PUD NO 1 OF BENTON COUNTY',\n",
       "       'BONNEVILLE POWER ADMINISTRATION||INLAND POWER & LIGHT COMPANY',\n",
       "       'BONNEVILLE POWER ADMINISTRATION||PUD NO 1 OF ASOTIN COUNTY||INLAND POWER & LIGHT COMPANY',\n",
       "       'BONNEVILLE POWER ADMINISTRATION||CITY OF PORT ANGELES - (WA)',\n",
       "       'BONNEVILLE POWER ADMINISTRATION||PUD NO 1 OF GRAYS HARBOR COUNTY',\n",
       "       'BONNEVILLE POWER ADMINISTRATION||CITY OF MILTON - (WA)|CITY OF TACOMA - (WA)',\n",
       "       'BONNEVILLE POWER ADMINISTRATION||PACIFICORP||PUD NO 1 OF CLARK COUNTY - (WA)',\n",
       "       'BONNEVILLE POWER ADMINISTRATION||VERA IRRIGATION DISTRICT #15',\n",
       "       'BONNEVILLE POWER ADMINISTRATION||COLUMBIA RURAL ELEC ASSN, INC',\n",
       "       'BONNEVILLE POWER ADMINISTRATION||CITY OF TACOMA - (WA)||PARKLAND LIGHT & WATER COMPANY|PENINSULA LIGHT COMPANY',\n",
       "       'BONNEVILLE POWER ADMINISTRATION||CITY OF TACOMA - (WA)||LAKEVIEW LIGHT & POWER|PENINSULA LIGHT COMPANY',\n",
       "       'PUD NO 1 OF PEND OREILLE COUNTY', 'PUD NO 1 OF OKANOGAN COUNTY',\n",
       "       'BONNEVILLE POWER ADMINISTRATION||CITY OF TACOMA - (WA)||PUD NO 1 OF MASON COUNTY',\n",
       "       'CITY OF TACOMA - (WA)||TANNER ELECTRIC COOP',\n",
       "       'BONNEVILLE POWER ADMINISTRATION||AVISTA CORP||BIG BEND ELECTRIC COOP, INC',\n",
       "       'OKANOGAN COUNTY ELEC COOP, INC',\n",
       "       'BONNEVILLE POWER ADMINISTRATION||CITY OF ELLENSBURG - (WA)',\n",
       "       'BONNEVILLE POWER ADMINISTRATION||AVISTA CORP||PUD NO 1 OF ASOTIN COUNTY',\n",
       "       'BONNEVILLE POWER ADMINISTRATION||PACIFICORP||COLUMBIA RURAL ELEC ASSN, INC',\n",
       "       'BONNEVILLE POWER ADMINISTRATION||CITY OF CENTRALIA - (WA)|CITY OF TACOMA - (WA)'],\n",
       "      dtype=object)"
      ]
     },
     "execution_count": 25,
     "metadata": {},
     "output_type": "execute_result"
    }
   ],
   "source": [
    "#To check how many unique values available in Electric Utility Column:-\n",
    "\n",
    "df[\"Electric Utility\"].unique()"
   ]
  },
  {
   "cell_type": "code",
   "execution_count": 26,
   "id": "b2b4e829",
   "metadata": {},
   "outputs": [],
   "source": [
    "df.dropna(inplace=True)"
   ]
  },
  {
   "cell_type": "code",
   "execution_count": 27,
   "id": "7816cf18",
   "metadata": {},
   "outputs": [
    {
     "data": {
      "text/html": [
       "<div>\n",
       "<style scoped>\n",
       "    .dataframe tbody tr th:only-of-type {\n",
       "        vertical-align: middle;\n",
       "    }\n",
       "\n",
       "    .dataframe tbody tr th {\n",
       "        vertical-align: top;\n",
       "    }\n",
       "\n",
       "    .dataframe thead th {\n",
       "        text-align: right;\n",
       "    }\n",
       "</style>\n",
       "<table border=\"1\" class=\"dataframe\">\n",
       "  <thead>\n",
       "    <tr style=\"text-align: right;\">\n",
       "      <th></th>\n",
       "      <th>Country</th>\n",
       "      <th>City</th>\n",
       "      <th>State</th>\n",
       "      <th>Model Year</th>\n",
       "      <th>Make</th>\n",
       "      <th>Model</th>\n",
       "      <th>Electric Vehicle Type</th>\n",
       "      <th>Clean Alternative Fuel Vehicle (CAFV) Eligibility</th>\n",
       "      <th>Electric Range</th>\n",
       "      <th>Base MSRP</th>\n",
       "      <th>Legislative District</th>\n",
       "      <th>DOL Vehicle ID</th>\n",
       "      <th>Electric Utility</th>\n",
       "      <th>Sales</th>\n",
       "    </tr>\n",
       "  </thead>\n",
       "  <tbody>\n",
       "    <tr>\n",
       "      <th>0</th>\n",
       "      <td>Suffolk</td>\n",
       "      <td>Suffolk</td>\n",
       "      <td>VA</td>\n",
       "      <td>2018</td>\n",
       "      <td>TESLA</td>\n",
       "      <td>MODEL 3</td>\n",
       "      <td>Battery Electric Vehicle (BEV)</td>\n",
       "      <td>Clean Alternative Fuel Vehicle Eligible</td>\n",
       "      <td>215</td>\n",
       "      <td>0</td>\n",
       "      <td>32.5</td>\n",
       "      <td>476647986</td>\n",
       "      <td>PACIFICORP</td>\n",
       "      <td>165060339</td>\n",
       "    </tr>\n",
       "    <tr>\n",
       "      <th>1</th>\n",
       "      <td>Yakima</td>\n",
       "      <td>Yakima</td>\n",
       "      <td>WA</td>\n",
       "      <td>2020</td>\n",
       "      <td>TESLA</td>\n",
       "      <td>MODEL 3</td>\n",
       "      <td>Battery Electric Vehicle (BEV)</td>\n",
       "      <td>Clean Alternative Fuel Vehicle Eligible</td>\n",
       "      <td>308</td>\n",
       "      <td>0</td>\n",
       "      <td>14.0</td>\n",
       "      <td>103490145</td>\n",
       "      <td>PACIFICORP</td>\n",
       "      <td>109719851</td>\n",
       "    </tr>\n",
       "    <tr>\n",
       "      <th>2</th>\n",
       "      <td>Yakima</td>\n",
       "      <td>Yakima</td>\n",
       "      <td>WA</td>\n",
       "      <td>2021</td>\n",
       "      <td>AUDI</td>\n",
       "      <td>E-TRON</td>\n",
       "      <td>Battery Electric Vehicle (BEV)</td>\n",
       "      <td>Clean Alternative Fuel Vehicle Eligible</td>\n",
       "      <td>222</td>\n",
       "      <td>0</td>\n",
       "      <td>14.0</td>\n",
       "      <td>144941534</td>\n",
       "      <td>PACIFICORP</td>\n",
       "      <td>131349110</td>\n",
       "    </tr>\n",
       "    <tr>\n",
       "      <th>3</th>\n",
       "      <td>Danville</td>\n",
       "      <td>Danville</td>\n",
       "      <td>VA</td>\n",
       "      <td>2019</td>\n",
       "      <td>TESLA</td>\n",
       "      <td>MODEL 3</td>\n",
       "      <td>Battery Electric Vehicle (BEV)</td>\n",
       "      <td>Clean Alternative Fuel Vehicle Eligible</td>\n",
       "      <td>220</td>\n",
       "      <td>0</td>\n",
       "      <td>14.0</td>\n",
       "      <td>168513922</td>\n",
       "      <td>PUGET SOUND ENERGY INC</td>\n",
       "      <td>124006297</td>\n",
       "    </tr>\n",
       "    <tr>\n",
       "      <th>4</th>\n",
       "      <td>Norfolk</td>\n",
       "      <td>Norfolk</td>\n",
       "      <td>VA</td>\n",
       "      <td>2014</td>\n",
       "      <td>FORD</td>\n",
       "      <td>C-MAX</td>\n",
       "      <td>Plug-in Hybrid Electric Vehicle (PHEV)</td>\n",
       "      <td>Not eligible due to low battery range</td>\n",
       "      <td>19</td>\n",
       "      <td>0</td>\n",
       "      <td>14.0</td>\n",
       "      <td>150749378</td>\n",
       "      <td>PUGET SOUND ENERGY INC</td>\n",
       "      <td>122947837</td>\n",
       "    </tr>\n",
       "  </tbody>\n",
       "</table>\n",
       "</div>"
      ],
      "text/plain": [
       "    Country      City State  Model Year   Make    Model  \\\n",
       "0   Suffolk   Suffolk    VA        2018  TESLA  MODEL 3   \n",
       "1    Yakima    Yakima    WA        2020  TESLA  MODEL 3   \n",
       "2    Yakima    Yakima    WA        2021   AUDI   E-TRON   \n",
       "3  Danville  Danville    VA        2019  TESLA  MODEL 3   \n",
       "4   Norfolk   Norfolk    VA        2014   FORD    C-MAX   \n",
       "\n",
       "                    Electric Vehicle Type  \\\n",
       "0          Battery Electric Vehicle (BEV)   \n",
       "1          Battery Electric Vehicle (BEV)   \n",
       "2          Battery Electric Vehicle (BEV)   \n",
       "3          Battery Electric Vehicle (BEV)   \n",
       "4  Plug-in Hybrid Electric Vehicle (PHEV)   \n",
       "\n",
       "  Clean Alternative Fuel Vehicle (CAFV) Eligibility  Electric Range  \\\n",
       "0           Clean Alternative Fuel Vehicle Eligible             215   \n",
       "1           Clean Alternative Fuel Vehicle Eligible             308   \n",
       "2           Clean Alternative Fuel Vehicle Eligible             222   \n",
       "3           Clean Alternative Fuel Vehicle Eligible             220   \n",
       "4             Not eligible due to low battery range              19   \n",
       "\n",
       "   Base MSRP  Legislative District  DOL Vehicle ID        Electric Utility  \\\n",
       "0          0                  32.5       476647986              PACIFICORP   \n",
       "1          0                  14.0       103490145              PACIFICORP   \n",
       "2          0                  14.0       144941534              PACIFICORP   \n",
       "3          0                  14.0       168513922  PUGET SOUND ENERGY INC   \n",
       "4          0                  14.0       150749378  PUGET SOUND ENERGY INC   \n",
       "\n",
       "       Sales  \n",
       "0  165060339  \n",
       "1  109719851  \n",
       "2  131349110  \n",
       "3  124006297  \n",
       "4  122947837  "
      ]
     },
     "execution_count": 27,
     "metadata": {},
     "output_type": "execute_result"
    }
   ],
   "source": [
    "df.head()"
   ]
  },
  {
   "cell_type": "code",
   "execution_count": 28,
   "id": "eccb6234",
   "metadata": {},
   "outputs": [],
   "source": [
    "#To clean csv file:-\n",
    "\n",
    "df.to_csv(\"clean.csv\")"
   ]
  },
  {
   "cell_type": "markdown",
   "id": "9c3cde1a",
   "metadata": {},
   "source": [
    "# Data is Clean, Now we can do Visualization:-"
   ]
  },
  {
   "cell_type": "code",
   "execution_count": 29,
   "id": "f5de1d41",
   "metadata": {},
   "outputs": [
    {
     "data": {
      "image/png": "[encoded data removed]",
      "text/plain": [
       "<Figure size 640x480 with 1 Axes>"
      ]
     },
     "metadata": {},
     "output_type": "display_data"
    }
   ],
   "source": [
    "#Vizualization Evs per Model Year:-\n",
    "\n",
    "plot = (100 * df['Model Year'].value_counts() / len(df['Model Year'])).plot(\n",
    "kind='bar', title='Evs  per Model Year(%)')"
   ]
  },
  {
   "cell_type": "code",
   "execution_count": 31,
   "id": "c8051935",
   "metadata": {},
   "outputs": [
    {
     "data": {
      "image/png": "[encoded data removed]",
      "text/plain": [
       "<Figure size 640x480 with 1 Axes>"
      ]
     },
     "metadata": {},
     "output_type": "display_data"
    }
   ],
   "source": [
    "#To show graph in form of propertion we require pie chart:\n",
    "\n",
    "\n",
    "#Evs per model % pie chart:-\n",
    "plot = (100 * df['Model'].value_counts()[:10] / len(df['Model'])).plot(\n",
    "kind='pie', autopct='%1.1f%%', title='Evs per Model (%)')"
   ]
  },
  {
   "cell_type": "code",
   "execution_count": 32,
   "id": "14f21014",
   "metadata": {},
   "outputs": [
    {
     "data": {
      "text/plain": [
       "<seaborn.axisgrid.FacetGrid at 0x22fb196a1f0>"
      ]
     },
     "execution_count": 32,
     "metadata": {},
     "output_type": "execute_result"
    },
    {
     "data": {
      "image/png": "[encoded data removed]",
      "text/plain": [
       "<Figure size 1000x500 with 2 Axes>"
      ]
     },
     "metadata": {},
     "output_type": "display_data"
    }
   ],
   "source": [
    "#dis plot(distribution plot) used to represent the data in histogram form:-\n",
    "#kernel destiny estimation plot(kde)-better alternative to histogram \n",
    "\n",
    "sns.displot(data=df, x=\"Electric Range\", col=\"Electric Vehicle Type\" , kde=True)"
   ]
  },
  {
   "cell_type": "code",
   "execution_count": 33,
   "id": "72e28946",
   "metadata": {},
   "outputs": [
    {
     "data": {
      "text/plain": [
       "<AxesSubplot:xlabel='Electric Range', ylabel='Base MSRP'>"
      ]
     },
     "execution_count": 33,
     "metadata": {},
     "output_type": "execute_result"
    },
    {
     "data": {
      "image/png": "[encoded data removed]",
      "text/plain": [
       "<Figure size 640x480 with 1 Axes>"
      ]
     },
     "metadata": {},
     "output_type": "display_data"
    }
   ],
   "source": [
    "#Scatter Plot:- To check the relation between two variable graphically\n",
    "\n",
    "sns.scatterplot(data=df, x=\"Electric Range\", y=\"Base MSRP\")"
   ]
  },
  {
   "cell_type": "code",
   "execution_count": 34,
   "id": "e0c2b1b2",
   "metadata": {},
   "outputs": [
    {
     "data": {
      "image/png": "[encoded data removed]",
      "text/plain": [
       "<Figure size 640x480 with 1 Axes>"
      ]
     },
     "metadata": {},
     "output_type": "display_data"
    }
   ],
   "source": [
    "#autopct:- autopct string used to label the wedges with their numeric value\n",
    "\n",
    "plot = (100 * df['Country'].value_counts()[:10] / len(df['Country'])).plot(\n",
    "kind='pie', autopct='%1.1f%%', title='Evs per Country(%)')"
   ]
  },
  {
   "cell_type": "code",
   "execution_count": 35,
   "id": "abfecc80",
   "metadata": {},
   "outputs": [
    {
     "data": {
      "image/png": "[encoded data removed]",
      "text/plain": [
       "<Figure size 640x480 with 1 Axes>"
      ]
     },
     "metadata": {},
     "output_type": "display_data"
    }
   ],
   "source": [
    "# HoriZontal Bar plot(barh):- It is useful to compare the data horizontally;\n",
    "\n",
    "plot = (100 * df['Electric Vehicle Type'].value_counts()[:10] / len(df['Electric Vehicle Type'])).plot(\n",
    "kind='barh', color=['blue', 'red'], title='Evs per Type in the US (%)')"
   ]
  },
  {
   "cell_type": "markdown",
   "id": "d1b1600d",
   "metadata": {},
   "source": [
    "# Applying Machine Learning"
   ]
  },
  {
   "cell_type": "code",
   "execution_count": 36,
   "id": "2ad3fa9b",
   "metadata": {},
   "outputs": [],
   "source": [
    "#df1=df.loc[:5000,:]"
   ]
  },
  {
   "cell_type": "code",
   "execution_count": 37,
   "id": "ba1fa513",
   "metadata": {},
   "outputs": [],
   "source": [
    "from sklearn.preprocessing import LabelEncoder"
   ]
  },
  {
   "cell_type": "code",
   "execution_count": 38,
   "id": "d4ecfe7a",
   "metadata": {},
   "outputs": [],
   "source": [
    "le=LabelEncoder()"
   ]
  },
  {
   "cell_type": "code",
   "execution_count": 39,
   "id": "a39d1ce0",
   "metadata": {},
   "outputs": [
    {
     "name": "stdout",
     "output_type": "stream",
     "text": [
      "Index(['Country', 'City', 'State', 'Make', 'Model', 'Electric Vehicle Type',\n",
      "       'Clean Alternative Fuel Vehicle (CAFV) Eligibility',\n",
      "       'Electric Utility'],\n",
      "      dtype='object')\n"
     ]
    }
   ],
   "source": [
    "objList = df.select_dtypes(include = \"object\").columns\n",
    "print (objList)"
   ]
  },
  {
   "cell_type": "code",
   "execution_count": 40,
   "id": "6df58d99",
   "metadata": {},
   "outputs": [
    {
     "name": "stdout",
     "output_type": "stream",
     "text": [
      "<class 'pandas.core.frame.DataFrame'>\n",
      "Int64Index: 1999 entries, 0 to 1998\n",
      "Data columns (total 14 columns):\n",
      " #   Column                                             Non-Null Count  Dtype  \n",
      "---  ------                                             --------------  -----  \n",
      " 0   Country                                            1999 non-null   int32  \n",
      " 1   City                                               1999 non-null   int32  \n",
      " 2   State                                              1999 non-null   int32  \n",
      " 3   Model Year                                         1999 non-null   int64  \n",
      " 4   Make                                               1999 non-null   int32  \n",
      " 5   Model                                              1999 non-null   int32  \n",
      " 6   Electric Vehicle Type                              1999 non-null   int32  \n",
      " 7   Clean Alternative Fuel Vehicle (CAFV) Eligibility  1999 non-null   int32  \n",
      " 8   Electric Range                                     1999 non-null   int64  \n",
      " 9   Base MSRP                                          1999 non-null   int64  \n",
      " 10  Legislative District                               1999 non-null   float64\n",
      " 11  DOL Vehicle ID                                     1999 non-null   int64  \n",
      " 12  Electric Utility                                   1999 non-null   int32  \n",
      " 13  Sales                                              1999 non-null   int64  \n",
      "dtypes: float64(1), int32(8), int64(5)\n",
      "memory usage: 236.3 KB\n",
      "None\n"
     ]
    }
   ],
   "source": [
    "#Label Encoding for object to numeric conversion\n",
    "\n",
    "for feat in objList:\n",
    "    df[feat] = le.fit_transform(df[feat].astype(str))\n",
    "\n",
    "print (df.info())"
   ]
  },
  {
   "cell_type": "code",
   "execution_count": 41,
   "id": "307d1d18",
   "metadata": {},
   "outputs": [],
   "source": [
    "#split data into input and target variables:-\n",
    " \n",
    "X=df.drop(\"Sales\",axis=1) \n",
    "y=df[\"Sales\"]"
   ]
  },
  {
   "cell_type": "code",
   "execution_count": 42,
   "id": "5d563662",
   "metadata": {},
   "outputs": [],
   "source": [
    "X_train,X_test,y_train,y_test=train_test_split(X,y,test_size=.2,random_state=51)"
   ]
  },
  {
   "cell_type": "code",
   "execution_count": 43,
   "id": "b63c6e3b",
   "metadata": {},
   "outputs": [
    {
     "name": "stdout",
     "output_type": "stream",
     "text": [
      "(1599, 13)\n",
      "(400, 13)\n",
      "(1599,)\n",
      "(400,)\n"
     ]
    }
   ],
   "source": [
    "print(X_train.shape)\n",
    "print(X_test.shape)\n",
    "print(y_train.shape)\n",
    "print(y_test.shape)"
   ]
  },
  {
   "cell_type": "code",
   "execution_count": 44,
   "id": "b204a3ad",
   "metadata": {},
   "outputs": [],
   "source": [
    "#Performing Linear Regression:-\n",
    "\n",
    "lr=LinearRegression()"
   ]
  },
  {
   "cell_type": "code",
   "execution_count": 45,
   "id": "c4d42c36",
   "metadata": {},
   "outputs": [
    {
     "data": {
      "text/plain": [
       "LinearRegression()"
      ]
     },
     "execution_count": 45,
     "metadata": {},
     "output_type": "execute_result"
    }
   ],
   "source": [
    "#To fit line in Linear Regression:-\n",
    "#fit()- used in machine Learning to build value\n",
    "\n",
    "lr.fit(X_train,y_train)"
   ]
  },
  {
   "cell_type": "code",
   "execution_count": 46,
   "id": "22dea734",
   "metadata": {},
   "outputs": [],
   "source": [
    "#Predicted Value:-\n",
    "\n",
    "pred=lr.predict(X_test)"
   ]
  },
  {
   "cell_type": "code",
   "execution_count": 47,
   "id": "9573e518",
   "metadata": {},
   "outputs": [
    {
     "data": {
      "text/plain": [
       "array([ 2.19198646e+05, -1.51279393e+04,  4.37928370e+05, -2.03992302e+05,\n",
       "        3.57644631e+05, -9.08713665e+04,  1.82089837e+06, -6.24283937e+05,\n",
       "       -1.07087749e+04, -3.75585152e+01,  1.11825142e+05,  1.93859948e-02,\n",
       "       -8.77174213e+04])"
      ]
     },
     "execution_count": 47,
     "metadata": {},
     "output_type": "execute_result"
    }
   ],
   "source": [
    "#m value:-\n",
    "\n",
    "lr.coef_"
   ]
  },
  {
   "cell_type": "code",
   "execution_count": 48,
   "id": "1f6f09f6",
   "metadata": {},
   "outputs": [
    {
     "data": {
      "text/plain": [
       "500975339.7692141"
      ]
     },
     "execution_count": 48,
     "metadata": {},
     "output_type": "execute_result"
    }
   ],
   "source": [
    "#c value:-\n",
    "\n",
    "lr.intercept_"
   ]
  },
  {
   "cell_type": "code",
   "execution_count": 49,
   "id": "09e67d61",
   "metadata": {},
   "outputs": [
    {
     "name": "stdout",
     "output_type": "stream",
     "text": [
      "3419821896095025.5\n"
     ]
    }
   ],
   "source": [
    "#Printing Mean squared Error:-\n",
    "\n",
    "print(mean_squared_error(pred,y_test))"
   ]
  },
  {
   "cell_type": "code",
   "execution_count": 50,
   "id": "827360a8",
   "metadata": {},
   "outputs": [
    {
     "name": "stdout",
     "output_type": "stream",
     "text": [
      "-176.34114643063634\n"
     ]
    }
   ],
   "source": [
    "#Testing Accuracy:-\n",
    "\n",
    "print(r2_score(pred,y_test))"
   ]
  },
  {
   "cell_type": "code",
   "execution_count": 51,
   "id": "7c56c31c",
   "metadata": {},
   "outputs": [
    {
     "data": {
      "text/plain": [
       "0.005568418259682795"
      ]
     },
     "execution_count": 51,
     "metadata": {},
     "output_type": "execute_result"
    }
   ],
   "source": [
    "#Training Accuracy:-\n",
    "\n",
    "lr.score(X_train,y_train)"
   ]
  },
  {
   "cell_type": "code",
   "execution_count": null,
   "id": "9d8dc207",
   "metadata": {},
   "outputs": [],
   "source": []
  }
 ],
 "metadata": {
  "kernelspec": {
   "display_name": "Python 3 (ipykernel)",
   "language": "python",
   "name": "python3"
  },
  "language_info": {
   "codemirror_mode": {
    "name": "ipython",
    "version": 3
   },
   "file_extension": ".py",
   "mimetype": "text/x-python",
   "name": "python",
   "nbconvert_exporter": "python",
   "pygments_lexer": "ipython3",
   "version": "3.9.13"
  }
 },
 "nbformat": 4,
 "nbformat_minor": 5
}
